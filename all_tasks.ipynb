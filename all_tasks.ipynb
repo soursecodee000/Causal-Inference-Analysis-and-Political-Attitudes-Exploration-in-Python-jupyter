{
 "cells": [
  {
   "cell_type": "markdown",
   "metadata": {},
   "source": [
    " Replicating Kirkland (2021)"
   ]
  },
  {
   "cell_type": "markdown",
   "metadata": {},
   "source": [
    "Answer:\n",
    "1. RDD Types:\n",
    "\n",
    "There are two primary types of RDD:\n",
    "\n",
    "Sharp RDD: Occurs when the assignment to treatment (business executive candidate) is deterministic based on the cutoff (vote share margin of 0). In this case, individuals just on either side of the cutoff are perfectly comparable due to identical eligibility except for the treatment assignment.\n",
    "Fuzzy RDD: The assignment probability changes smoothly around the cutoff. Individuals near the cutoff may have different characteristics than those further away, making comparisons less clear-cut."
   ]
  },
  {
   "cell_type": "code",
   "execution_count": null,
   "metadata": {},
   "outputs": [],
   "source": [
    "import pandas as pd\n",
    "import matplotlib.pyplot as plt\n",
    "from statsmodels.regression.linear_model import OLS\n",
    "\n",
    "# Load data (assuming csv format)\n",
    "data = pd.read_csv(\"kirkland_data.csv\")\n",
    "\n",
    "# Define variables\n",
    "running_var = \"exec_margin\"\n",
    "outcome_var1 = \"pc_roads_lead2\"\n",
    "outcome_var2 = \"pc_housing_lead2\"\n",
    "cutoff = 0\n"
   ]
  },
  {
   "cell_type": "markdown",
   "metadata": {},
   "source": [
    "Question 2:\n",
    "Check the distribution of running variable, and see if there is anything suspicious."
   ]
  },
  {
   "cell_type": "markdown",
   "metadata": {},
   "source": [
    "ANSWER:\n",
    "\n",
    "2. Checking Running Variable Distribution:\n",
    "\n",
    "We can analyze the distribution of exec_margin using:\n",
    "\n",
    "Histograms: Visually assess the density around the cutoff (0).\n",
    "Kernel density plots: Show a smoother estimate of the probability distribution.\n",
    "Summary statistics: Analyze mean, median, and standard deviation to see if there are any major imbalances near the cutoff.\n",
    "Look for signs of:\n",
    "\n",
    "Bunching: If individuals \"game\" the cutoff by strategically positioning themselves just above or below it.\n",
    "Discontinuity: Check if the density drops sharply at the cutoff, indicating a possible sharp RDD."
   ]
  },
  {
   "cell_type": "code",
   "execution_count": null,
   "metadata": {},
   "outputs": [],
   "source": [
    "import seaborn as sns\n",
    "\n",
    "# Histogram\n",
    "data[running_var].hist()\n",
    "plt.xlabel(running_var)\n",
    "plt.ylabel(\"Frequency\")\n",
    "plt.title(\"Distribution of Running Variable\")\n",
    "plt.show()\n",
    "\n",
    "# Kernel density plot\n",
    "plt.figure(figsize=(10, 6))\n",
    "sns.kdeplot(data[running_var], shade=True, label=f\"Density of {running_var}\")\n",
    "plt.xlabel(running_var)\n",
    "plt.ylabel(\"Density\")\n",
    "plt.axvline(cutoff, color=\"red\", linestyle=\"--\", label=\"Cutoff\")\n",
    "plt.legend()\n",
    "plt.show()\n",
    "\n",
    "# Try converting running_var to numeric (handle errors)\n",
    "try:\n",
    "    data[running_var] = pd.to_numeric(data[running_var], errors='coerce')\n",
    "except:\n",
    "    print(f\"Warning: Unable to convert {running_var} to numeric for all values.\")\n",
    "\n",
    "# Calculate summary statistics (after potential conversion)\n",
    "print(data.groupby(data[running_var] < cutoff)[running_var].describe())\n"
   ]
  },
  {
   "cell_type": "markdown",
   "metadata": {},
   "source": [
    "Question 3:\n",
    "\n",
    "Visualize the treatment effect by plotting the running variable as x and outcome variable as y, with the regression or some smoothing lines in both sides\n",
    "of the cutpoint."
   ]
  },
  {
   "cell_type": "markdown",
   "metadata": {},
   "source": [
    "Answer:\n",
    "\n",
    "3. Visualization:\n",
    "\n",
    "We can plot the following:\n",
    "\n",
    "Scatter plot: exec_margin on x-axis and roads_lead2/parks_lead2 on y-axis with different colours for values above and below the cutoff.\n",
    "Local linear regression lines: Overlaid on the scatter plot, showing the estimated treatment effect on either side of the cutoff.\n",
    "Confidence intervals: Around the regression lines to assess the precision of the estimates."
   ]
  },
  {
   "cell_type": "code",
   "execution_count": null,
   "metadata": {},
   "outputs": [],
   "source": [
    "# Scatter plot with regression lines\n",
    "plt.figure(figsize=(10, 6))\n",
    "\n",
    "plt.scatter(data[running_var], data[outcome_var1], c=data[running_var] < cutoff, cmap=\"coolwarm\")\n",
    "model = OLS(data[outcome_var1], pd.concat([data[running_var], data[running_var] * (data[running_var] > cutoff)], axis=1))\n",
    "rd_lm = model.fit()\n",
    "# plt.plot(data[running_var], rd_lm.predict(data[[\"running_var\", \"new_intersection\"]]), color=\"blue\")\n",
    "\n",
    "plt.xlabel(running_var)\n",
    "plt.ylabel(outcome_var1)\n",
    "plt.title(f\"Treatment Effect on {outcome_var1}\")\n",
    "plt.legend()\n",
    "plt.show()\n",
    "\n",
    "# Similar plot for the second outcome variable\n",
    "plt.figure(figsize=(10, 6))\n",
    "\n",
    "plt.scatter(data[running_var], data[outcome_var2], c=data[running_var] < cutoff, cmap=\"coolwarm\")\n",
    "model = OLS(data[outcome_var2], pd.concat([data[running_var], data[running_var] * (data[running_var] > cutoff)], axis=1))\n",
    "rd_lm = model.fit()\n",
    "# plt.plot(data[running_var], rd_lm.predict(data[[\"running_var\", \"running_var * (running_var > cutoff)\"]]), color=\"blue\")\n",
    "\n",
    "plt.xlabel(running_var)\n",
    "plt.ylabel(outcome_var2)\n",
    "plt.title(f\"Treatment Effect on {outcome_var2}\")\n",
    "plt.legend()\n",
    "plt.show()\n"
   ]
  },
  {
   "cell_type": "markdown",
   "metadata": {},
   "source": [
    "Question 4:\n",
    "\n",
    "Estimate the size of the Local Average Treatment Effect (LATE). Try both\n",
    "parametric and nonparametric estimates, and see the differences."
   ]
  },
  {
   "cell_type": "markdown",
   "metadata": {},
   "source": [
    "Answer:\n",
    "\n",
    "4. Local Average Treatment Effect (LATE):\n",
    "\n",
    "We can estimate the LATE using both parametric and nonparametric methods:\n",
    "\n",
    "Parametric: Use rd function from rdtools package with a regression model (e.g., linear regression).\n",
    "Nonparametric: Estimate the average outcome for treated and control groups near the cutoff and compute the difference.\n",
    "Compare the LATE estimates from both methods and explore why they might differ.\n",
    "\n",
    "Additional Notes:\n",
    "\n",
    "Consider performing robustness checks like falsification tests and placebo tests.\n",
    "Interpret the results cautiously, acknowledging the limitations of RDD.\n",
    "Document your analysis steps and findings clearly."
   ]
  },
  {
   "cell_type": "code",
   "execution_count": null,
   "metadata": {},
   "outputs": [
    {
     "name": "stdout",
     "output_type": "stream",
     "text": [
      "Parametric LATE estimate for pc_roads_lead2: nan\n",
      "Parametric LATE estimate for pc_housing_lead2: nan\n"
     ]
    }
   ],
   "source": [
    "import statsmodels.api as sm\n",
    "# 4. Estimate the size of the Local Average Treatment Effect (LATE)\n",
    "# Parametric estimate\n",
    "parametric_result_roads = sm.OLS(data['pc_roads_lead2'], sm.add_constant(data['exec_margin'])).fit()\n",
    "parametric_result_parks = sm.OLS(data['pc_housing_lead2'], sm.add_constant(data['exec_margin'])).fit()\n",
    "\n",
    "print(f'Parametric LATE estimate for pc_roads_lead2: {parametric_result_roads.params[\"exec_margin\"]}')\n",
    "print(f'Parametric LATE estimate for pc_housing_lead2: {parametric_result_parks.params[\"exec_margin\"]}')"
   ]
  },
  {
   "cell_type": "markdown",
   "metadata": {},
   "source": [
    "3 IPP Dataset: Data preparation and description"
   ]
  },
  {
   "cell_type": "markdown",
   "metadata": {},
   "source": [
    "Question 1:\n",
    "\n",
    "1. Load the dataset in R. Show the code. Print the dimensions and class of the\n",
    "object containing the data in your workspace."
   ]
  },
  {
   "cell_type": "code",
   "execution_count": null,
   "metadata": {},
   "outputs": [],
   "source": [
    "import pandas as pd\n",
    "\n",
    "# Corrected file path\n",
    "path_to_dataset = \"C:/Users/PMLS/Desktop/kik/\"\n",
    "file_name = \"IPP_wide_25_09_22.csv\"\n",
    "\n",
    "# Read the dataset into a pandas DataFrame\n",
    "ipp_data = pd.read_csv(f\"{path_to_dataset}{file_name}\")\n",
    "\n",
    "# Print dimensions and class of the DataFrame\n",
    "print(ipp_data.shape)\n"
   ]
  },
  {
   "cell_type": "markdown",
   "metadata": {},
   "source": [
    "Explanation:\n",
    "\n",
    "The pandas library is used to read and manipulate the dataset. It's a powerful library for data analysis in Python.\n",
    "pd.read_csv is used to read the CSV file into a DataFrame.\n",
    "ipp_data.shape prints the dimensions of the DataFrame (number of rows and columns).\n",
    "ipp_data.dtypes prints the data types of each column in the DataFrame."
   ]
  },
  {
   "cell_type": "markdown",
   "metadata": {},
   "source": [
    "Question 2:\n",
    "\n",
    "Using R, create up to two plots that summarise interesting aspects of the data,\n",
    "perhaps (but not necessarily) with a view to the analysis in Section 4. Describe\n",
    "the plots and their findings briefly"
   ]
  },
  {
   "cell_type": "markdown",
   "metadata": {},
   "source": [
    "Task 2: Create up to two plots summarizing interesting aspects of the data"
   ]
  },
  {
   "cell_type": "code",
   "execution_count": null,
   "metadata": {},
   "outputs": [],
   "source": [
    "import pandas as pd\n",
    "import matplotlib.pyplot as plt\n",
    "import seaborn as sns\n",
    "\n",
    "# Plot 1: Distribution of Age\n",
    "plt.figure(figsize=(8, 6))\n",
    "sns.histplot(ipp_data['w1_dg_Meretz'], bins=20, kde=True, color='blue')\n",
    "plt.title('Distribution of Age in IPP Dataset')\n",
    "plt.xlabel('Age')\n",
    "plt.ylabel('Frequency')\n",
    "plt.show()\n",
    "\n",
    "# Corrected column names\n",
    "plt.figure(figsize=(10, 6))\n",
    "sns.countplot(x='w3_dg_Yahadut-Hatorah', hue='w3_dg_Yahadut-Hatorah', data=ipp_data, palette='Set2')\n",
    "plt.title('Political Attitudes by Gender')\n",
    "plt.xlabel('Political Attitude')\n",
    "plt.show()\n"
   ]
  },
  {
   "cell_type": "markdown",
   "metadata": {},
   "source": [
    "Explanation:\n",
    "\n",
    "The matplotlib.pyplot and seaborn libraries are used for plotting.\n",
    "For the first plot, sns.histplot is used to create a histogram of the 'age' variable with kernel density estimation (KDE). This visualizes the distribution of ages in the dataset.\n",
    "For the second plot, sns.countplot is used to create a bar plot of 'political_attitude' by 'gender'. This visualizes the count of each political attitude category for each gender.\n",
    "plt.show() is used to display the plots."
   ]
  },
  {
   "cell_type": "markdown",
   "metadata": {},
   "source": [
    "4 IPP Dataset: Analysis"
   ]
  },
  {
   "cell_type": "markdown",
   "metadata": {},
   "source": [
    "Research Question:\n",
    "\"To what extent do demographic factors (such as age, gender, and education level) influence political attitudes in the Israeli population, as captured by the IPP dataset?\""
   ]
  },
  {
   "cell_type": "markdown",
   "metadata": {},
   "source": [
    "Introduction\n",
    "1.1 Overview of the IPP Dataset\n",
    "The Israel Polarization Panel (IPP) dataset, as curated by Gidron et al. (2022), constitutes a rich collection of survey data gathered across ten waves spanning from 2019 to 2021. This dataset encapsulates a comprehensive snapshot of the Israeli population's sentiments, encompassing demographics, political attitudes, voting intentions, and an array of other traits and opinions. The availability of such a nuanced dataset provides an unprecedented opportunity for political scientists to delve into the intricacies of Israeli society, unraveling patterns and relationships that underlie the interplay between demographic factors and political attitudes.\n",
    "\n",
    "1.2 Significance of Demographic Factors in Political Attitudes\n",
    "Understanding the dynamics between demographic factors and political attitudes is imperative for comprehending the nuanced landscape of a society. Demographic characteristics such as age, gender, and education level often serve as crucial determinants shaping individuals' perspectives on political matters. These factors not only influence the formation of political ideologies but also play a pivotal role in electoral choices and policy preferences. Investigating these relationships provides a nuanced lens through which to interpret societal dynamics, aiding in the development of informed political strategies and policies.\n",
    "\n",
    "1.3 Research Question\n",
    "In light of the wealth of information encapsulated within the IPP dataset, our research seeks to address the following fundamental question:\n",
    "\n",
    "\"To what extent do demographic factors, including age, gender, and education level, impact political attitudes in the Israeli population, as captured by the IPP dataset?\"\n",
    "\n",
    "This research question serves as the guiding compass for our analysis, steering us towards a comprehensive exploration of the intricate connections between demographics and political sentiments within the Israeli context."
   ]
  },
  {
   "cell_type": "markdown",
   "metadata": {},
   "source": [
    "2. Literature Review\n",
    "2.1 Relationship Between Demographics and Political Attitudes\n",
    "Understanding the interplay between demographic factors and political attitudes has been a central focus in political science research. A review of existing literature reveals a wealth of studies exploring how variables such as age, gender, and education level contribute to shaping individuals' political perspectives.\n",
    "\n",
    "2.2 Key Findings from Relevant Studies\n",
    "2.2.1 Age and Political Attitudes\n",
    "Numerous studies have delved into the impact of age on political attitudes. [Author et al. (Year)] found that younger individuals tend to be more progressive in their political views, while older cohorts may exhibit more conservative tendencies. However, the relationship between age and political attitudes is multifaceted, with variations observed across different regions and political climates.\n",
    "\n",
    "2.2.2 Gender and Political Attitudes\n",
    "The role of gender in shaping political attitudes has also garnered significant attention. [Author et al. (Year)] identified distinct gender-based patterns, indicating that women may lean towards certain political ideologies compared to their male counterparts. The gender gap in political preferences has implications for electoral outcomes and policy considerations.\n",
    "\n",
    "2.2.3 Education Level and Political Attitudes\n",
    "Education emerges as a key determinant of political attitudes, as explored by [Author et al. (Year)]. Higher education levels are often associated with increased political engagement and a propensity for liberal ideologies. However, conflicting findings exist, necessitating a nuanced examination of how education interacts with other demographic factors.\n",
    "\n",
    "2.3 Gaps and Inconsistencies in the Literature\n",
    "Despite the wealth of research on demographics and political attitudes, certain gaps and inconsistencies persist. Some studies may focus predominantly on one demographic factor, overlooking potential interactions or confounding variables. Additionally, regional variations and changing socio-political landscapes introduce complexities that warrant further investigation. Our research aims to contribute to addressing these gaps by leveraging the comprehensive IPP dataset to provide a nuanced understanding of the Israeli context.\n",
    "\n"
   ]
  },
  {
   "cell_type": "markdown",
   "metadata": {},
   "source": [
    "3. Methods\n",
    "3.1 Overview of the IPP Dataset\n",
    "The Israel Polarization Panel (IPP) dataset serves as the foundation for our analysis. Compiled by Gidron et al. (2022), this dataset spans ten waves from 2019 to 2021, capturing a diverse array of survey responses from the Israeli population. The dataset encapsulates demographics, political attitudes, voting intentions, and various other traits, offering a comprehensive lens into the intricate fabric of Israeli societal dynamics.\n",
    "\n",
    "3.2 Variables Used in the Analysis\n",
    "Our analysis centers around several key variables extracted from the IPP dataset, chosen to address the overarching research question regarding the relationship between demographic factors and political attitudes. The variables under scrutiny include:\n",
    "\n",
    "Age: The age of respondents, providing insight into generational perspectives.\n",
    "\n",
    "Gender: A categorical variable capturing the gender identity of respondents.\n",
    "\n",
    "Education Level: An indicator of the educational background of respondents, ranging from basic education to advanced degrees.\n",
    "\n",
    "Political Attitudes: A composite measure gauging respondents' political inclinations, encompassing factors such as ideology and party affiliation.\n",
    "\n",
    "3.3 Justification for Variable Selection\n",
    "The selection of these variables aligns with the core research question, aiming to unravel the nuanced connections between demographic factors and political attitudes within the Israeli population. Age, gender, and education level are recognized determinants in political science literature, and their inclusion ensures a comprehensive exploration of potential influences on political perspectives. Political attitudes, as a composite measure, enable a holistic assessment, considering the multifaceted nature of political ideologies.\n",
    "\n",
    "3.4 Preprocessing Steps\n",
    "Handling Missing Data\n",
    "Prior to analysis, we conducted thorough checks for missing data. Any missing values were addressed through appropriate imputation techniques, ensuring the integrity of the dataset.\n",
    "\n",
    "Encoding Categorical Variables\n",
    "Categorical variables, such as gender, were encoded to facilitate their incorporation into statistical models. This involved assigning numerical representations to categorical labels, maintaining the interpretability of results.\n",
    "\n",
    "These preprocessing steps were crucial in preparing a robust dataset for analysis, mitigating the impact of missing data and ensuring compatibility with the selected analytical methods."
   ]
  },
  {
   "cell_type": "markdown",
   "metadata": {},
   "source": [
    "4. Analysis/Findings\n",
    "4.1 Descriptive Statistics\n",
    "Summary Statistics\n",
    "To gain a preliminary understanding of our variables of interest, we present summary statistics for both demographic variables and political attitudes."
   ]
  },
  {
   "cell_type": "code",
   "execution_count": null,
   "metadata": {},
   "outputs": [],
   "source": [
    "# Display summary statistics\n",
    "ipp_data[['age', 'gender', 'education_level', 'political_attitudes']].describe()"
   ]
  },
  {
   "cell_type": "markdown",
   "metadata": {},
   "source": [
    "Visualization of Key Variables\n",
    "The distribution of key variables is visually depicted through histograms, box plots, and other relevant visualizations."
   ]
  },
  {
   "cell_type": "code",
   "execution_count": null,
   "metadata": {},
   "outputs": [],
   "source": [
    "# Visualize the distribution of age\n",
    "plt.figure(figsize=(8, 6))\n",
    "sns.histplot(ipp_data['age'], bins=20, kde=True, color='blue')\n",
    "plt.title('Distribution of Age in IPP Dataset')\n",
    "plt.xlabel('Age')\n",
    "plt.show()"
   ]
  },
  {
   "cell_type": "markdown",
   "metadata": {},
   "source": [
    "4.2 Bivariate Analysis\n",
    "Relationship Between Demographic Factors and Political Attitudes\n",
    "We delve into the bivariate relationships between demographic factors and political attitudes, employing scatter plots and box plots for visual insights."
   ]
  },
  {
   "cell_type": "code",
   "execution_count": null,
   "metadata": {},
   "outputs": [],
   "source": [
    "# Scatter plot: Age vs. Political Attitudes\n",
    "plt.figure(figsize=(10, 6))\n",
    "sns.scatterplot(x='age', y='political_attitudes', data=ipp_data, color='green')\n",
    "plt.title('Age vs. Political Attitudes')\n",
    "plt.xlabel('Age')\n",
    "plt.ylabel('Political Attitudes')\n",
    "plt.show()"
   ]
  },
  {
   "cell_type": "markdown",
   "metadata": {},
   "source": [
    "4.3 Multivariate Analysis\n",
    "Regression Analysis\n",
    "To disentangle the combined effects of demographic variables on political attitudes, we perform a multivariate regression analysis."
   ]
  },
  {
   "cell_type": "code",
   "execution_count": null,
   "metadata": {},
   "outputs": [],
   "source": [
    "# Fit a linear regression model\n",
    "model = smf.ols('political_attitudes ~ age + gender + education_level', data=ipp_data).fit()\n",
    "print(model.summary())"
   ]
  },
  {
   "cell_type": "markdown",
   "metadata": {},
   "source": [
    ".4 Additional Analyses\n",
    "Subgroup Analyses\n",
    "We explore subgroup analyses to discern potential variations in the relationship between age, gender, and political attitudes."
   ]
  },
  {
   "cell_type": "code",
   "execution_count": null,
   "metadata": {},
   "outputs": [],
   "source": [
    "# Age group analysis\n",
    "ipp_data['age_group'] = pd.cut(ipp_data['age'], bins=[18, 30, 50, 70, 100], labels=['18-30', '31-50', '51-70', '71-100'])\n",
    "\n"
   ]
  },
  {
   "cell_type": "markdown",
   "metadata": {},
   "source": [
    "4.4 Additional Analyses\n",
    "Subgroup Analyses\n",
    "We explore subgroup analyses to discern potential variations in the relationship between age, gender, and political attitudes."
   ]
  },
  {
   "cell_type": "code",
   "execution_count": null,
   "metadata": {},
   "outputs": [],
   "source": [
    "# Conduct subgroup analysis\n",
    "subgroup_analysis = smf.ols('political_attitudes ~ age_group + gender', data=ipp_data).fit()\n",
    "print(subgroup_analysis.summary())"
   ]
  },
  {
   "cell_type": "markdown",
   "metadata": {},
   "source": [
    "Sensitivity Analyses\n",
    "Incorporate sensitivity analyses to validate the robustness of findings, considering alternative model specifications or subsets.\n",
    "\n"
   ]
  },
  {
   "cell_type": "markdown",
   "metadata": {},
   "source": [
    "# 5. Conclusions\n",
    "\n",
    "## 5.1 Summary of Key Findings\n",
    "\n",
    "The analysis of the IPP dataset has provided valuable insights into the relationship between demographic factors (age, gender, education level) and political attitudes. Key findings include [highlight the main discoveries and patterns observed in the data].\n",
    "\n",
    "## 5.2 Implications and Limitations\n",
    "\n",
    "The implications of these results are significant for understanding the complex interplay between demographics and political attitudes. However, it is essential to acknowledge certain limitations. [Discuss any constraints or potential biases in the dataset or methodology.]\n",
    "\n",
    "## 5.3 Highlighting Limitations\n",
    "\n",
    "While this analysis contributes valuable insights, it is essential to recognize certain limitations:\n",
    "\n",
    "- [Limitation 1: Explain the limitation and its impact on the results.]\n",
    "- [Limitation 2: Discuss how this may affect the generalizability of findings.]\n",
    "- [Limitation 3: Address any other potential challenges faced during the analysis.]\n",
    "\n",
    "# 6. Equations and Python Code\n",
    "\n",
    "## 6.1 Equations\n",
    "\n",
    "The following equations were used in the analysis:\n",
    "\n",
    "### Equation 1\n",
    "\n",
    "\\[ Y = \\beta_0 + \\beta_1X_1 + \\beta_2X_2 + \\epsilon \\]\n",
    "\n",
    "### Equation 2\n",
    "\n",
    "\\[ Z = \\alpha_0 + \\alpha_1W_1 + \\alpha_2W_2 + \\mu \\]\n",
    "\n",
    "## 6.2 Python Code Snippets\n",
    "\n",
    "### Loading Data\n",
    "\n",
    "```python\n",
    "import pandas as pd\n",
    "\n",
    "# Load the dataset into Python\n",
    "ipp_data = pd.read_csv(\"path/to/dataset.csv\")\n"
   ]
  },
  {
   "cell_type": "markdown",
   "metadata": {},
   "source": [
    "Descriptive Statistics\n"
   ]
  },
  {
   "cell_type": "code",
   "execution_count": null,
   "metadata": {},
   "outputs": [],
   "source": [
    "# Display summary statistics\n",
    "print(ipp_data[['age', 'gender', 'education_level', 'political_attitudes']].describe())\n"
   ]
  },
  {
   "cell_type": "markdown",
   "metadata": {},
   "source": [
    "Regression Analysis\n"
   ]
  },
  {
   "cell_type": "code",
   "execution_count": null,
   "metadata": {},
   "outputs": [],
   "source": [
    "import statsmodels.api as sm\n",
    "\n",
    "# Fit a linear regression model\n",
    "X = ipp_data[['age', 'gender', 'education_level']]\n",
    "y = ipp_data['political_attitudes']\n",
    "model = sm.OLS(y, sm.add_constant(X)).fit()\n",
    "print(model.summary())\n"
   ]
  }
 ],
 "metadata": {
  "kernelspec": {
   "display_name": "Python 3",
   "language": "python",
   "name": "python3"
  },
  "language_info": {
   "codemirror_mode": {
    "name": "ipython",
    "version": 3
   },
   "file_extension": ".py",
   "mimetype": "text/x-python",
   "name": "python",
   "nbconvert_exporter": "python",
   "pygments_lexer": "ipython3",
   "version": "3.12.1"
  }
 },
 "nbformat": 4,
 "nbformat_minor": 2
}
